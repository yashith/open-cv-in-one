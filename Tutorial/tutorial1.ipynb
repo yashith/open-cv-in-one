{
 "cells": [
  {
   "cell_type": "code",
   "execution_count": 1,
   "metadata": {},
   "outputs": [],
   "source": [
    "from asyncio.windows_events import NULL\n",
    "import cv2 as cv\n",
    "import mediapipe as mp\n",
    "import numpy as np\n",
    "\n",
    "video = cv.VideoCapture(\"V_340.mp4\")\n",
    "\n",
    "solution= mp.solutions.pose\n",
    "pose = solution.Pose()\n",
    "mpDraw= mp.solutions.drawing_utils\n",
    "\n",
    "#human detection part\n",
    "hog = cv.HOGDescriptor()\n",
    "hog.setSVMDetector(cv.HOGDescriptor_getDefaultPeopleDetector())"
   ]
  },
  {
   "cell_type": "code",
   "execution_count": 14,
   "metadata": {},
   "outputs": [],
   "source": [
    "bg_subtractor = cv.createBackgroundSubtractorMOG2(history=15, varThreshold=5)"
   ]
  },
  {
   "cell_type": "code",
   "execution_count": 28,
   "metadata": {},
   "outputs": [
    {
     "data": {
      "text/plain": [
       "False"
      ]
     },
     "execution_count": 28,
     "metadata": {},
     "output_type": "execute_result"
    }
   ],
   "source": [
    "img = cv.imread(\"Tutorial/images.jpg\")"
   ]
  },
  {
   "cell_type": "code",
   "execution_count": 22,
   "metadata": {},
   "outputs": [
    {
     "ename": "error",
     "evalue": "OpenCV(4.6.0) D:\\a\\opencv-python\\opencv-python\\opencv\\modules\\highgui\\src\\window.cpp:967: error: (-215:Assertion failed) size.width>0 && size.height>0 in function 'cv::imshow'\n",
     "output_type": "error",
     "traceback": [
      "\u001b[1;31m---------------------------------------------------------------------------\u001b[0m",
      "\u001b[1;31merror\u001b[0m                                     Traceback (most recent call last)",
      "\u001b[1;32me:\\OpenCV tests\\Tutorial\\tutorial1.ipynb Cell 3\u001b[0m in \u001b[0;36m<cell line: 1>\u001b[1;34m()\u001b[0m\n\u001b[1;32m----> <a href='vscode-notebook-cell:/e%3A/OpenCV%20tests/Tutorial/tutorial1.ipynb#X13sZmlsZQ%3D%3D?line=0'>1</a>\u001b[0m cv\u001b[39m.\u001b[39;49mimshow(\u001b[39m\"\u001b[39;49m\u001b[39mImage\u001b[39;49m\u001b[39m\"\u001b[39;49m,img)\n",
      "\u001b[1;31merror\u001b[0m: OpenCV(4.6.0) D:\\a\\opencv-python\\opencv-python\\opencv\\modules\\highgui\\src\\window.cpp:967: error: (-215:Assertion failed) size.width>0 && size.height>0 in function 'cv::imshow'\n"
     ]
    }
   ],
   "source": [
    "cv.imshow(\"Image\",img)"
   ]
  },
  {
   "cell_type": "code",
   "execution_count": 10,
   "metadata": {},
   "outputs": [
    {
     "ename": "error",
     "evalue": "OpenCV(4.6.0) D:\\a\\opencv-python\\opencv-python\\opencv\\modules\\imgproc\\src\\color.cpp:182: error: (-215:Assertion failed) !_src.empty() in function 'cv::cvtColor'\n",
     "output_type": "error",
     "traceback": [
      "\u001b[1;31m---------------------------------------------------------------------------\u001b[0m",
      "\u001b[1;31merror\u001b[0m                                     Traceback (most recent call last)",
      "\u001b[1;32me:\\OpenCV tests\\Tutorial\\tutorial1.ipynb Cell 2\u001b[0m in \u001b[0;36m<cell line: 5>\u001b[1;34m()\u001b[0m\n\u001b[0;32m      <a href='vscode-notebook-cell:/e%3A/OpenCV%20tests/Tutorial/tutorial1.ipynb#X11sZmlsZQ%3D%3D?line=3'>4</a>\u001b[0m \u001b[39mwhile\u001b[39;00m \u001b[39mTrue\u001b[39;00m:\n\u001b[0;32m      <a href='vscode-notebook-cell:/e%3A/OpenCV%20tests/Tutorial/tutorial1.ipynb#X11sZmlsZQ%3D%3D?line=4'>5</a>\u001b[0m     success,img\u001b[39m=\u001b[39m video\u001b[39m.\u001b[39mread()\n\u001b[1;32m----> <a href='vscode-notebook-cell:/e%3A/OpenCV%20tests/Tutorial/tutorial1.ipynb#X11sZmlsZQ%3D%3D?line=5'>6</a>\u001b[0m     img\u001b[39m=\u001b[39mcv\u001b[39m.\u001b[39;49mcvtColor(img,cv\u001b[39m.\u001b[39;49mCOLOR_BGR2GRAY)\n\u001b[0;32m      <a href='vscode-notebook-cell:/e%3A/OpenCV%20tests/Tutorial/tutorial1.ipynb#X11sZmlsZQ%3D%3D?line=6'>7</a>\u001b[0m     frameTime \u001b[39m=\u001b[39m \u001b[39m100\u001b[39m\n\u001b[0;32m      <a href='vscode-notebook-cell:/e%3A/OpenCV%20tests/Tutorial/tutorial1.ipynb#X11sZmlsZQ%3D%3D?line=7'>8</a>\u001b[0m     results\u001b[39m=\u001b[39mNULL\n",
      "\u001b[1;31merror\u001b[0m: OpenCV(4.6.0) D:\\a\\opencv-python\\opencv-python\\opencv\\modules\\imgproc\\src\\color.cpp:182: error: (-215:Assertion failed) !_src.empty() in function 'cv::cvtColor'\n"
     ]
    }
   ],
   "source": [
    "\n",
    "#############\n",
    "\n",
    "\n",
    "while True:\n",
    "    success,img= video.read()\n",
    "    img=cv.cvtColor(img,cv.COLOR_BGR2GRAY)\n",
    "    frameTime = 100\n",
    "    results=NULL\n",
    "    if(success):\n",
    "        img = cv.cvtColor(img,cv.COLOR_BGR2RGB)\n",
    "        \n",
    "        ## Human boxex\n",
    "        boxes, weights = hog.detectMultiScale(img, winStride=(5,5) )\n",
    "        boxes = np.array([[x, y, x + w, y + h] for (x, y, w, h) in boxes])\n",
    "        mask = np.zeros(img.shape[:2], dtype=\"uint8\")\n",
    "        for (xA, yA, xB, yB) in boxes:\n",
    "        # display the detected boxes in the colour picture\n",
    "            m=cv.rectangle(mask, (xA, yA), (xB, yB), 255, -1)\n",
    "            onemask = cv.bitwise_and(img, img, mask=m)\n",
    "            cv.imshow(\"Image-one-Masked\",onemask)\n",
    "            results = pose.process(onemask) \n",
    "            #combine all masks\n",
    "            mask = cv.bitwise_and(mask,m)\n",
    "            cv.rectangle(img, (xA, yA), (xB, yB),(0, 255, 0), 2)\n",
    "        ####\n",
    "        \n",
    "            \n",
    "          \n",
    "        masked = cv.bitwise_and(img, img, mask=mask)\n",
    "        if(results!= NULL):\n",
    "            \n",
    "            print(results.pose_landmarks)\n",
    "            \n",
    "            if(results.pose_landmarks):\n",
    "                    mpDraw.draw_landmarks(img,results.pose_landmarks,solution.POSE_CONNECTIONS)\n",
    "                    \n",
    "            cv.imshow(\"Image Masked\",img)\n",
    "            if cv.waitKey(frameTime) & 0xFF == ord('q'):\n",
    "                break\n",
    "    else:\n",
    "        break\n",
    "        \n",
    "video.release()\n",
    "cv.destroyAllWindows()"
   ]
  },
  {
   "cell_type": "code",
   "execution_count": null,
   "metadata": {},
   "outputs": [],
   "source": [
    "cv.dnn.readForm"
   ]
  }
 ],
 "metadata": {
  "kernelspec": {
   "display_name": "Python 3.8.5 ('openCVTest': venv)",
   "language": "python",
   "name": "python3"
  },
  "language_info": {
   "codemirror_mode": {
    "name": "ipython",
    "version": 3
   },
   "file_extension": ".py",
   "mimetype": "text/x-python",
   "name": "python",
   "nbconvert_exporter": "python",
   "pygments_lexer": "ipython3",
   "version": "3.8.5"
  },
  "orig_nbformat": 4,
  "vscode": {
   "interpreter": {
    "hash": "bcaf7d8391e008cb72d861460281fb4b9e61e6eade9886e41e3e12d3f961f2e4"
   }
  }
 },
 "nbformat": 4,
 "nbformat_minor": 2
}
